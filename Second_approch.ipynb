{
 "cells": [
  {
   "cell_type": "markdown",
   "metadata": {},
   "source": [
    "# Second Approch"
   ]
  },
  {
   "cell_type": "code",
   "execution_count": 9,
   "metadata": {},
   "outputs": [],
   "source": [
    "import pandas as pd\n",
    "import numpy as np\n",
    "import matplotlib.pyplot as plt\n",
    "import scipy as scp\n",
    "from sympy import Symbol\n",
    "import copy as cp\n",
    "import seaborn as sns\n",
    "from scipy.linalg import cholesky\n",
    "from math import sqrt"
   ]
  },
  {
   "cell_type": "markdown",
   "metadata": {},
   "source": [
    "In this approch, the objectif is to use the modeling equation (1) of $H$, the water level of the watercourse, in order to minimize the overflow height, $S$, that is related to the physical variables and the height of the dike by the equation (2).\n",
    "\n",
    "$H = {\\left(\\frac{Q}{K_s \\sqrt(\\frac{Z_m - Z_v}{L}) B}\\right)}^{\\frac{3}{5}} \\ (1)$\n",
    "\n",
    "$S = Z_c - Z_d = Zv + H - \\mathcal{H}_d - Z_m \\ (2) $\n",
    "\n",
    "By the formulation of the problem, the major sources of uncertainty are considered to be the variables $Q$, $Z_m$, $Z_v$ and $K_s$. In this sense these variables are considered to be random variables with the following distributions :\n",
    "\n",
    "$Q \\sim Gumbel(1013, 558)$\n",
    "\n",
    "$Z_m \\sim Triangular(55, halfrange = 1)$\n",
    "\n",
    "$Z_v \\sim Triangular(50, halfrange = 1)$\n",
    "\n",
    "$K_s \\sim \\mathcal{N}(30, 7.5)$\n",
    "\n",
    "The other variables, $B$, $L$ and $Z_b$, are considered to be deterministics with values 300, 5000 and 55,5 respectively.\n",
    "\n",
    "For the development that follows, it will be considered the 3 different scenarios:\n",
    "\n",
    "1) Random variables without correlation\n",
    "\n",
    "2) Correlation $K_s$-$Z_v$ of -0.6 and $Z_v$-$Z_m$ of 0.6\n",
    "\n",
    "3) Correlation $K_s$-$Z_v$ of -0.3, $Z_v$-$Z_m$ of 0.66 and $K_s$-$Z_m$ of -0.5\n",
    "\n",
    "-----"
   ]
  },
  {
   "cell_type": "markdown",
   "metadata": {},
   "source": [
    "1) Generating realisations of the random variables and defining constants for the 3 scenarios"
   ]
  },
  {
   "cell_type": "code",
   "execution_count": 38,
   "metadata": {},
   "outputs": [
    {
     "name": "stdout",
     "output_type": "stream",
     "text": [
      "[[ 1.          0.          0.        ]\n",
      " [-0.3         0.9539392   0.        ]\n",
      " [-0.5         0.53462527  0.6813045 ]]\n"
     ]
    }
   ],
   "source": [
    "N = 500\n",
    "\n",
    "#first scenario\n",
    "q_realisations = np.random.gumbel(1031,558,N)\n",
    "zm_realisations = np.random.triangular(54,55,56,N)\n",
    "zv_realisations = np.random.triangular(49,50,51,N)\n",
    "ks_realisations = np.random.normal(30,7.5,N)\n",
    "\n",
    "#second scenario\n",
    "cov_matrix2 = np.array([\n",
    "        [  1, -0.6, 0],\n",
    "        [ -0.6,  1,  0.6],\n",
    "        [ 0,  0.6,  1]\n",
    "    ])\n",
    "\n",
    "c2 = cholesky(cov_matrix2, lower=True)\n",
    "\n",
    "realisations_2 =[]\n",
    "for i in range(N):\n",
    "    uncorrelated_var_i = [ks_realisations[i],zv_realisations[i],zm_realisations[i]]\n",
    "    correlated_var_i = np.dot(c2,uncorrelated_var_i)\n",
    "    realisations_2.append([q_realisations[i],correlated_var_i[0],correlated_var_i[1],correlated_var_i[2]])\n",
    "\n",
    "#third scenario\n",
    "cov_matrix3 = np.array([\n",
    "        [  1, -0.3, -0.5],\n",
    "        [ -0.3,  1,  0.66],\n",
    "        [ -0.5,  0.66,  1]\n",
    "    ])\n",
    "\n",
    "c3 = cholesky(cov_matrix3, lower=True)\n",
    "\n",
    "print(c3)\n",
    "\n",
    "realisations_3 =[]\n",
    "for i in range(N):\n",
    "    uncorrelated_var_i = [ks_realisations[i],zv_realisations[i],zm_realisations[i]]\n",
    "    correlated_var_i = np.dot(c3,uncorrelated_var_i)\n",
    "    realisations_3.append([q_realisations[i],correlated_var_i[0],correlated_var_i[1],correlated_var_i[2]])\n",
    "\n",
    "\n",
    "B=300\n",
    "L=5000\n",
    "Zb=55.5"
   ]
  },
  {
   "cell_type": "markdown",
   "metadata": {},
   "source": [
    "2) Generating H in the diferent scenarios"
   ]
  },
  {
   "cell_type": "code",
   "execution_count": 35,
   "metadata": {},
   "outputs": [],
   "source": [
    "#first scenario\n",
    "\n",
    "H_1 = np.zeros(N)\n",
    "for i in range(N):\n",
    "    Q_1 = np.power(abs(q_realisations[i]),3/5)*np.sign(q_realisations[i])\n",
    "    Div_1 = np.power(1/(ks_realisations[i]*sqrt((zm_realisations[i]-zv_realisations[i])/L)*B),3/5)\n",
    "    H_1[i] = Q_1*Div_1\n",
    "\n",
    "#second scenario\n",
    "\n",
    "H_2 = np.zeros(N)\n",
    "for i in range(N):\n",
    "    Q_2 = np.power(abs(realisations_2[i][0]),3/5)*np.sign(realisations_2[i][0])\n",
    "    Div_2 = np.power(1/(realisations_2[i][1]*sqrt((realisations_2[i][3]-realisations_2[i][2])/L)*B),3/5)\n",
    "    H_2[i]=Q_2*Div_2\n",
    "\n",
    "\n",
    "#third scenario\n",
    "\n",
    "H_3 = np.zeros(N)\n",
    "for i in range(N):\n",
    "    Q_3 = np.power(abs(realisations_3[i][0]),3/5)*np.sign(realisations_3[i][0])\n",
    "    Div_3 = np.power(1/(realisations_3[i][1]*sqrt((realisations_3[i][3]-realisations_3[i][2])/L)*B),3/5)\n",
    "    H_3[i]=Q_3*Div_3\n"
   ]
  }
 ],
 "metadata": {
  "interpreter": {
   "hash": "6567f546c71c8edbf31d02fe63e31a338c04c872675792b3a65bf920c8f8a257"
  },
  "kernelspec": {
   "display_name": "Python 3.10.4 64-bit",
   "language": "python",
   "name": "python3"
  },
  "language_info": {
   "codemirror_mode": {
    "name": "ipython",
    "version": 3
   },
   "file_extension": ".py",
   "mimetype": "text/x-python",
   "name": "python",
   "nbconvert_exporter": "python",
   "pygments_lexer": "ipython3",
   "version": "3.10.4"
  },
  "orig_nbformat": 4
 },
 "nbformat": 4,
 "nbformat_minor": 2
}
