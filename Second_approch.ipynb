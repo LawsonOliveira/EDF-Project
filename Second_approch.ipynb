{
 "cells": [
  {
   "cell_type": "markdown",
   "metadata": {},
   "source": [
    "# Second Approch"
   ]
  },
  {
   "cell_type": "markdown",
   "metadata": {},
   "source": [
    "In this approch, the objectif is to use the modeling equation (1) of $H$, the water level of the watercourse, in order to minimize the overflow height, $S$, that is related to the physical variables and the height of the dike by the equation (2).\n",
    "\n",
    "$H = {\\left(\\frac{Q}{K_s \\sqrt(\\frac{Z_m - Z_v}{L}) B}\\right)}^{\\frac{3}{5}} \\ (1)$\n",
    "\n",
    "$S = Z_c - Z_d = Zv + H - \\mathcal{H}_d - Z_m \\ (2) $\n",
    "\n",
    "By the formulation of the problem, the major sources of uncertainty are considered to be the variables $Q$, $Z_m$, $Z_v$ and $K_s$. In this sense these variables are considered to be random variables with the following distributions :\n",
    "\n",
    "$Q \\sim Gumbel(1013, 558)$\n",
    "\n",
    "$Z_m \\sim Triangular(55, halfrange = 1)$\n",
    "\n",
    "$Z_v \\sim Triangular(50, halfrange = 1)$\n",
    "\n",
    "$K_s \\sim \\mathcal{N}(30, 7,5)$\n",
    "\n",
    "The other variables, $B$, $L$ and $Z_b$, are considered to be deterministics with values 300, 5000 and 55,5 respectively."
   ]
  },
  {
   "cell_type": "markdown",
   "metadata": {},
   "source": [
    "1) Generating realisations of the random variables"
   ]
  },
  {
   "cell_type": "code",
   "execution_count": null,
   "metadata": {
    "vscode": {
     "languageId": "plaintext"
    }
   },
   "outputs": [],
   "source": [
    "q_realisations = "
   ]
  }
 ],
 "metadata": {
  "language_info": {
   "name": "python"
  },
  "orig_nbformat": 4
 },
 "nbformat": 4,
 "nbformat_minor": 2
}
