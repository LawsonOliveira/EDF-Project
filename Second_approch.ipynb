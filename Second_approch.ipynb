{
 "cells": [
  {
   "cell_type": "markdown",
   "metadata": {},
   "source": [
    "# Second Approch"
   ]
  },
  {
   "cell_type": "markdown",
   "metadata": {},
   "source": [
    "In this approch, the objectif is to use the modeling equation (1) of $H$, the water level of the watercourse, in order to minimize the overflow height, $S$, that is related to the physical variables and the height of the dike by the equation (2).\n",
    "\n",
    "$H = {\\left(\\frac{Q}{K_s \\sqrt(\\frac{Z_m - Z_v}{L}) B}\\right)}^{\\frac{3}{5}} \\ (1)$\n",
    "\n",
    "$S = Z_c - Z_d = Zv + H - \\mathcal{H}_d - Z_m \\ (2) $\n",
    "\n",
    "By the formulation of the problem, the major sources of uncertainty are considered to be the variables $Q$, $Z_m$, $Z_v$ and $K_s$. In this sense these variables are considered to be random variables with the following distributions :\n",
    "\n",
    "$Q \\sim Gumbel(1013, 558)$\n",
    "\n",
    "$Z_m \\sim Triangular(55, halfrange = 1)$\n",
    "\n",
    "$Z_v \\sim Triangular(50, halfrange = 1)$\n",
    "\n",
    "$K_s \\sim \\mathcal{N}(30, 7,5)$\n",
    "\n",
    "The other variables, $B$, $L$ and $Z_b$, are considered to be deterministics with values 300, 5000 and 55,5 respectively.\n",
    "\n",
    "For the development that follows, it will be considered the 3 different scenarios:\n",
    "\n",
    "1) Random variables without correlation\n",
    "\n",
    "2) Correlation $K_s$-$Z_v$ of -0.6 and $Z_v$-$Z_m$ of 0.6\n",
    "\n",
    "3) Correlation $K_s$-$Z_v$ of -0.3, $Z_v$-$Z_m$ of 0.66 and $K_s$-$Z_m$ of -0.5\n",
    "\n",
    "-----"
   ]
  },
  {
   "cell_type": "markdown",
   "metadata": {},
   "source": [
    "1) Generating realisations of the random variables and defining constants for the 3 scenarios"
   ]
  },
  {
   "cell_type": "code",
   "execution_count": null,
   "metadata": {
    "vscode": {
     "languageId": "plaintext"
    }
   },
   "outputs": [],
   "source": [
    "N = 500\n",
    "\n",
    "#first scenario\n",
    "q_realisations = np.random.gumbel(1031,558,N)\n",
    "zm_realisations = np.random.triangular(54,55,56,N)\n",
    "zv_realisations = np.random.triangular(49,50,51,N)\n",
    "ks_realisations = np.random.normal(30,7.5,N)\n",
    "\n",
    "#second scenario\n",
    "cov_matrix2 = np.array([\n",
    "        [  1, -0.6, 0],\n",
    "        [ -0.6,  1,  0.6],\n",
    "        [ 0,  0.6,  1]\n",
    "    ])\n",
    "\n",
    "c2 = cholesky(cov_matrix2, lower=True)\n",
    "\n",
    "realisations_2 =[]\n",
    "for i in range(N):\n",
    "    uncorrelated_var_i = [ks_realisations[i],zv_realisations[i],zm_realisations[i]]\n",
    "    correlated_var_i = np.dot(c2,uncorrelated_var_i)\n",
    "    realisations_2.append([q_realisations[i],correlated_var_i[0],correlated_var_i[1],correlated_var_i[2]])\n",
    "\n",
    "#third scenario\n",
    "cov_matrix3 = np.array([\n",
    "        [  1, -0.3, -0.5],\n",
    "        [ -0.3,  1,  0.66],\n",
    "        [ -0.5,  0.66,  1]\n",
    "    ])\n",
    "\n",
    "c3 = cholesky(cov_matrix3, lower=True)\n",
    "\n",
    "realisations_3 =[]\n",
    "for i in range(N):\n",
    "    uncorrelated_var_i = [ks_realisations[i],zv_realisations[i],zm_realisations[i]]\n",
    "    correlated_var_i = np.dot(c3,uncorrelated_var_i)\n",
    "    realisations_3.append([q_realisations[i],correlated_var_i[0],correlated_var_i[1],correlated_var_i[2]])\n",
    "\n",
    "\n",
    "B=300\n",
    "L=5000\n",
    "Zb=55.5"
   ]
  },
  {
   "cell_type": "markdown",
   "metadata": {},
   "source": [
    "2) Generating H in the diferent scenarios"
   ]
  },
  {
   "cell_type": "code",
   "execution_count": null,
   "metadata": {
    "vscode": {
     "languageId": "plaintext"
    }
   },
   "outputs": [],
   "source": [
    "#first scenario\n",
    "\n",
    "H_1 = (q_realisations/(ks_realisations*sqrt((zm_realisations-zv_realisations)/L)*B))^(0.6)\n",
    "\n",
    "#second scenario\n",
    "\n",
    "H_2 = []\n",
    "for i in range(N):\n",
    "    H_2.append((realisations_2[0]/(realisations_2[1]*sqrt((realisations_2[3]-realisations_2[2])/L)*B))^(0.6))\n",
    "\n",
    "\n",
    "#third scenario\n",
    "\n",
    "H_3 = []\n",
    "for i in range(N):\n",
    "    H_3.append((realisations_3[0]/(realisations_3[1]*sqrt((realisations_3[3]-realisations_3[2])/L)*B))^(0.6))\n"
   ]
  }
 ],
 "metadata": {
  "language_info": {
   "name": "python"
  },
  "orig_nbformat": 4
 },
 "nbformat": 4,
 "nbformat_minor": 2
}
