{
 "cells": [
  {
   "cell_type": "markdown",
   "metadata": {},
   "source": [
    "# Second Approch"
   ]
  },
  {
   "cell_type": "code",
   "execution_count": 9,
   "metadata": {},
   "outputs": [],
   "source": [
    "import pandas as pd\n",
    "import numpy as np\n",
    "import matplotlib.pyplot as plt\n",
    "import scipy as scp\n",
    "from sympy import Symbol\n",
    "import copy as cp\n",
    "import seaborn as sns\n",
    "from scipy.linalg import eigh, cholesky\n",
    "from math import sqrt"
   ]
  },
  {
   "cell_type": "markdown",
   "metadata": {},
   "source": [
    "In this approch, the objectif is to use the modeling equation (1) of $H$, the water level of the watercourse, in order to minimize the overflow height, $S$, that is related to the physical variables and the height of the dike by the equation (2).\n",
    "\n",
    "$H = {\\left(\\frac{Q}{K_s \\sqrt(\\frac{Z_m - Z_v}{L}) B}\\right)}^{\\frac{3}{5}} \\ (1)$\n",
    "\n",
    "$S = Z_c - Z_d = Zv + H - \\mathcal{H}_d - Z_m \\ (2) $\n",
    "\n",
    "By the formulation of the problem, the major sources of uncertainty are considered to be the variables $Q$, $Z_m$, $Z_v$ and $K_s$. In this sense these variables are considered to be random variables with the following distributions :\n",
    "\n",
    "$Q \\sim Gumbel(1013, 558)$\n",
    "\n",
    "$Z_m \\sim Triangular(55, halfrange = 1)$\n",
    "\n",
    "$Z_v \\sim Triangular(50, halfrange = 1)$\n",
    "\n",
    "$K_s \\sim \\mathcal{N}(30, 7.5)$\n",
    "\n",
    "The other variables, $B$, $L$ and $Z_b$, are considered to be deterministics with values 300, 5000 and 55,5 respectively.\n",
    "\n",
    "For the development that follows, it will be considered the 3 different scenarios:\n",
    "\n",
    "1) Random variables without correlation\n",
    "\n",
    "2) Correlation $K_s$-$Z_v$ of -0.6 and $Z_v$-$Z_m$ of 0.6\n",
    "\n",
    "3) Correlation $K_s$-$Z_v$ of -0.3, $Z_v$-$Z_m$ of 0.66 and $K_s$-$Z_m$ of -0.5\n",
    "\n",
    "-----"
   ]
  },
  {
   "cell_type": "markdown",
   "metadata": {},
   "source": [
    "1) Generating realisations of the random variables and defining constants for the 3 scenarios"
   ]
  },
  {
   "cell_type": "code",
   "execution_count": 23,
   "metadata": {},
   "outputs": [
    {
     "name": "stdout",
     "output_type": "stream",
     "text": [
      "601.8184087198779\n",
      "601.8184087198779\n"
     ]
    }
   ],
   "source": [
    "N = 500\n",
    "\n",
    "#first scenario\n",
    "q_realisations = np.random.gumbel(1031,558,N)\n",
    "zm_realisations = np.random.triangular(54,55,56,N)\n",
    "zv_realisations = np.random.triangular(49,50,51,N)\n",
    "ks_realisations = np.random.normal(30,7.5,N)\n",
    "\n",
    "#second scenario\n",
    "cov_matrix2 = np.array([\n",
    "        [  1, -0.6, 0],\n",
    "        [ -0.6,  1,  0.6],\n",
    "        [ 0,  0.6,  1]\n",
    "    ])\n",
    "\n",
    "c2 = cholesky(cov_matrix2, lower=True)\n",
    "\n",
    "realisations_2 =[]\n",
    "for i in range(N):\n",
    "    uncorrelated_var_i = [ks_realisations[i],zv_realisations[i],zm_realisations[i]]\n",
    "    correlated_var_i = np.dot(c2,uncorrelated_var_i)\n",
    "    realisations_2.append([q_realisations[i],correlated_var_i[0],correlated_var_i[1],correlated_var_i[2]])\n",
    "\n",
    "#third scenario\n",
    "cov_matrix3 = np.array([\n",
    "        [  1, -0.3, -0.5],\n",
    "        [ -0.3,  1,  0.66],\n",
    "        [ -0.5,  0.66,  1]\n",
    "    ])\n",
    "\n",
    "c3 = cholesky(cov_matrix3, lower=True)\n",
    "\n",
    "realisations_3 =[]\n",
    "for i in range(N):\n",
    "    uncorrelated_var_i = [ks_realisations[i],zv_realisations[i],zm_realisations[i]]\n",
    "    correlated_var_i = np.dot(c3,uncorrelated_var_i)\n",
    "    realisations_3.append([q_realisations[i],correlated_var_i[0],correlated_var_i[1],correlated_var_i[2]])\n",
    "\n",
    "\n",
    "B=300\n",
    "L=5000\n",
    "Zb=55.5"
   ]
  },
  {
   "cell_type": "markdown",
   "metadata": {},
   "source": [
    "2) Generating H in the diferent scenarios"
   ]
  },
  {
   "cell_type": "code",
   "execution_count": 25,
   "metadata": {},
   "outputs": [
    {
     "name": "stderr",
     "output_type": "stream",
     "text": [
      "C:\\Users\\analu\\AppData\\Local\\Temp\\ipykernel_29168\\4101579178.py:5: RuntimeWarning: invalid value encountered in double_scalars\n",
      "  H_1.append((q_realisations[i]/(ks_realisations[i]*sqrt((zm_realisations[i]-zv_realisations[i])/L)*B))**(0.6))\n"
     ]
    },
    {
     "ename": "TypeError",
     "evalue": "unsupported operand type(s) for -: 'list' and 'list'",
     "output_type": "error",
     "traceback": [
      "\u001b[1;31m---------------------------------------------------------------------------\u001b[0m",
      "\u001b[1;31mTypeError\u001b[0m                                 Traceback (most recent call last)",
      "\u001b[1;32mc:\\Users\\analu\\Documents\\1A CentraleSupélec\\ST4\\EI\\EI - git\\EDF-Project\\Second_approch.ipynb Cell 7'\u001b[0m in \u001b[0;36m<cell line: 10>\u001b[1;34m()\u001b[0m\n\u001b[0;32m      <a href='vscode-notebook-cell:/c%3A/Users/analu/Documents/1A%20CentraleSup%C3%A9lec/ST4/EI/EI%20-%20git/EDF-Project/Second_approch.ipynb#ch0000005?line=8'>9</a>\u001b[0m H_2 \u001b[39m=\u001b[39m []\n\u001b[0;32m     <a href='vscode-notebook-cell:/c%3A/Users/analu/Documents/1A%20CentraleSup%C3%A9lec/ST4/EI/EI%20-%20git/EDF-Project/Second_approch.ipynb#ch0000005?line=9'>10</a>\u001b[0m \u001b[39mfor\u001b[39;00m i \u001b[39min\u001b[39;00m \u001b[39mrange\u001b[39m(N):\n\u001b[1;32m---> <a href='vscode-notebook-cell:/c%3A/Users/analu/Documents/1A%20CentraleSup%C3%A9lec/ST4/EI/EI%20-%20git/EDF-Project/Second_approch.ipynb#ch0000005?line=10'>11</a>\u001b[0m     H_2\u001b[39m.\u001b[39mappend((realisations_2[\u001b[39m0\u001b[39m]\u001b[39m/\u001b[39m(realisations_2[\u001b[39m1\u001b[39m]\u001b[39m*\u001b[39msqrt((realisations_2[\u001b[39m3\u001b[39;49m]\u001b[39m-\u001b[39;49mrealisations_2[\u001b[39m2\u001b[39;49m])\u001b[39m/\u001b[39mL)\u001b[39m*\u001b[39mB))\u001b[39m*\u001b[39m\u001b[39m*\u001b[39m(\u001b[39m0.6\u001b[39m))\n\u001b[0;32m     <a href='vscode-notebook-cell:/c%3A/Users/analu/Documents/1A%20CentraleSup%C3%A9lec/ST4/EI/EI%20-%20git/EDF-Project/Second_approch.ipynb#ch0000005?line=13'>14</a>\u001b[0m \u001b[39m#third scenario\u001b[39;00m\n\u001b[0;32m     <a href='vscode-notebook-cell:/c%3A/Users/analu/Documents/1A%20CentraleSup%C3%A9lec/ST4/EI/EI%20-%20git/EDF-Project/Second_approch.ipynb#ch0000005?line=15'>16</a>\u001b[0m H_3 \u001b[39m=\u001b[39m []\n",
      "\u001b[1;31mTypeError\u001b[0m: unsupported operand type(s) for -: 'list' and 'list'"
     ]
    }
   ],
   "source": [
    "#first scenario\n",
    "\n",
    "H_1 = []\n",
    "for i in range(N):\n",
    "    H_1.append((q_realisations[i]/(ks_realisations[i]*sqrt((zm_realisations[i]-zv_realisations[i])/L)*B))**(0.6))\n",
    "\n",
    "#second scenario\n",
    "\n",
    "H_2 = []\n",
    "for i in range(N):\n",
    "    H_2.append((realisations_2[0]/(realisations_2[1]*sqrt((realisations_2[3]-realisations_2[2])/L)*B))**(0.6))\n",
    "\n",
    "\n",
    "#third scenario\n",
    "\n",
    "H_3 = []\n",
    "for i in range(N):\n",
    "    H_3.append((realisations_3[0]/(realisations_3[1]*sqrt((realisations_3[3]-realisations_3[2])/L)*B))**(0.6))\n"
   ]
  }
 ],
 "metadata": {
  "interpreter": {
   "hash": "6567f546c71c8edbf31d02fe63e31a338c04c872675792b3a65bf920c8f8a257"
  },
  "kernelspec": {
   "display_name": "Python 3.10.4 64-bit",
   "language": "python",
   "name": "python3"
  },
  "language_info": {
   "codemirror_mode": {
    "name": "ipython",
    "version": 3
   },
   "file_extension": ".py",
   "mimetype": "text/x-python",
   "name": "python",
   "nbconvert_exporter": "python",
   "pygments_lexer": "ipython3",
   "version": "3.10.4"
  },
  "orig_nbformat": 4
 },
 "nbformat": 4,
 "nbformat_minor": 2
}
